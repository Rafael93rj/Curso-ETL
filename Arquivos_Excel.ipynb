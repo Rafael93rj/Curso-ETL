{
 "cells": [
  {
   "cell_type": "markdown",
   "metadata": {},
   "source": [
    "fonte: https://www.kaggle.com/arjunprasadsarkhel/2021-olympics-in-tokyo"
   ]
  },
  {
   "cell_type": "markdown",
   "metadata": {},
   "source": [
    "### Bibliotecas"
   ]
  },
  {
   "cell_type": "code",
   "execution_count": 46,
   "metadata": {
    "ExecuteTime": {
     "end_time": "2024-02-16T10:35:42.273036800Z",
     "start_time": "2024-02-16T10:35:42.256239400Z"
    }
   },
   "outputs": [],
   "source": [
    "import pandas as pd\n",
    "from google.oauth2 import service_account\n",
    "from functools import reduce"
   ]
  },
  {
   "cell_type": "markdown",
   "metadata": {},
   "source": [
    "### Extração"
   ]
  },
  {
   "cell_type": "code",
   "execution_count": 2,
   "metadata": {
    "ExecuteTime": {
     "end_time": "2024-02-16T10:33:43.047656200Z",
     "start_time": "2024-02-16T10:33:42.044383800Z"
    }
   },
   "outputs": [],
   "source": [
    "atletas = pd.read_excel('Athletes.xlsx')"
   ]
  },
  {
   "cell_type": "code",
   "execution_count": 3,
   "metadata": {
    "ExecuteTime": {
     "end_time": "2024-02-16T10:33:43.066006500Z",
     "start_time": "2024-02-16T10:33:43.048651600Z"
    }
   },
   "outputs": [
    {
     "data": {
      "text/plain": "                Name     NOC           Discipline\n0    AALERUD Katrine  Norway         Cycling Road\n1        ABAD Nestor   Spain  Artistic Gymnastics\n2  ABAGNALE Giovanni   Italy               Rowing\n3     ABALDE Alberto   Spain           Basketball\n4      ABALDE Tamara   Spain           Basketball",
      "text/html": "<div>\n<style scoped>\n    .dataframe tbody tr th:only-of-type {\n        vertical-align: middle;\n    }\n\n    .dataframe tbody tr th {\n        vertical-align: top;\n    }\n\n    .dataframe thead th {\n        text-align: right;\n    }\n</style>\n<table border=\"1\" class=\"dataframe\">\n  <thead>\n    <tr style=\"text-align: right;\">\n      <th></th>\n      <th>Name</th>\n      <th>NOC</th>\n      <th>Discipline</th>\n    </tr>\n  </thead>\n  <tbody>\n    <tr>\n      <th>0</th>\n      <td>AALERUD Katrine</td>\n      <td>Norway</td>\n      <td>Cycling Road</td>\n    </tr>\n    <tr>\n      <th>1</th>\n      <td>ABAD Nestor</td>\n      <td>Spain</td>\n      <td>Artistic Gymnastics</td>\n    </tr>\n    <tr>\n      <th>2</th>\n      <td>ABAGNALE Giovanni</td>\n      <td>Italy</td>\n      <td>Rowing</td>\n    </tr>\n    <tr>\n      <th>3</th>\n      <td>ABALDE Alberto</td>\n      <td>Spain</td>\n      <td>Basketball</td>\n    </tr>\n    <tr>\n      <th>4</th>\n      <td>ABALDE Tamara</td>\n      <td>Spain</td>\n      <td>Basketball</td>\n    </tr>\n  </tbody>\n</table>\n</div>"
     },
     "execution_count": 3,
     "metadata": {},
     "output_type": "execute_result"
    }
   ],
   "source": [
    "atletas.head()"
   ]
  },
  {
   "cell_type": "code",
   "execution_count": 4,
   "metadata": {
    "ExecuteTime": {
     "end_time": "2024-02-16T10:33:43.098991800Z",
     "start_time": "2024-02-16T10:33:43.067024500Z"
    }
   },
   "outputs": [
    {
     "data": {
      "text/plain": "(206, 46)"
     },
     "execution_count": 4,
     "metadata": {},
     "output_type": "execute_result"
    }
   ],
   "source": [
    "atletas.NOC.nunique(), atletas.Discipline.nunique()"
   ]
  },
  {
   "cell_type": "code",
   "execution_count": 5,
   "metadata": {
    "ExecuteTime": {
     "end_time": "2024-02-16T10:33:43.267380600Z",
     "start_time": "2024-02-16T10:33:43.080654600Z"
    }
   },
   "outputs": [
    {
     "name": "stderr",
     "output_type": "stream",
     "text": [
      "C:\\Users\\rafae\\anaconda3\\Lib\\site-packages\\openpyxl\\styles\\stylesheet.py:226: UserWarning: Workbook contains no default style, apply openpyxl's default\n",
      "  warn(\"Workbook contains no default style, apply openpyxl's default\")\n"
     ]
    }
   ],
   "source": [
    "treinadores = pd.read_excel('Coaches.xlsx')"
   ]
  },
  {
   "cell_type": "code",
   "execution_count": 6,
   "metadata": {
    "ExecuteTime": {
     "end_time": "2024-02-16T10:33:43.269379600Z",
     "start_time": "2024-02-16T10:33:43.131703900Z"
    }
   },
   "outputs": [
    {
     "data": {
      "text/plain": "              Name            NOC  Discipline Event\n0  ABDELMAGID Wael          Egypt    Football   NaN\n1        ABE Junya          Japan  Volleyball   NaN\n2    ABE Katsuhiko          Japan  Basketball   NaN\n3     ADAMA Cherif  Côte d'Ivoire    Football   NaN\n4       AGEBA Yuya          Japan  Volleyball   NaN",
      "text/html": "<div>\n<style scoped>\n    .dataframe tbody tr th:only-of-type {\n        vertical-align: middle;\n    }\n\n    .dataframe tbody tr th {\n        vertical-align: top;\n    }\n\n    .dataframe thead th {\n        text-align: right;\n    }\n</style>\n<table border=\"1\" class=\"dataframe\">\n  <thead>\n    <tr style=\"text-align: right;\">\n      <th></th>\n      <th>Name</th>\n      <th>NOC</th>\n      <th>Discipline</th>\n      <th>Event</th>\n    </tr>\n  </thead>\n  <tbody>\n    <tr>\n      <th>0</th>\n      <td>ABDELMAGID Wael</td>\n      <td>Egypt</td>\n      <td>Football</td>\n      <td>NaN</td>\n    </tr>\n    <tr>\n      <th>1</th>\n      <td>ABE Junya</td>\n      <td>Japan</td>\n      <td>Volleyball</td>\n      <td>NaN</td>\n    </tr>\n    <tr>\n      <th>2</th>\n      <td>ABE Katsuhiko</td>\n      <td>Japan</td>\n      <td>Basketball</td>\n      <td>NaN</td>\n    </tr>\n    <tr>\n      <th>3</th>\n      <td>ADAMA Cherif</td>\n      <td>Côte d'Ivoire</td>\n      <td>Football</td>\n      <td>NaN</td>\n    </tr>\n    <tr>\n      <th>4</th>\n      <td>AGEBA Yuya</td>\n      <td>Japan</td>\n      <td>Volleyball</td>\n      <td>NaN</td>\n    </tr>\n  </tbody>\n</table>\n</div>"
     },
     "execution_count": 6,
     "metadata": {},
     "output_type": "execute_result"
    }
   ],
   "source": [
    "treinadores.head()"
   ]
  },
  {
   "cell_type": "code",
   "execution_count": 7,
   "metadata": {
    "ExecuteTime": {
     "end_time": "2024-02-16T10:33:43.305811900Z",
     "start_time": "2024-02-16T10:33:43.137636600Z"
    }
   },
   "outputs": [
    {
     "data": {
      "text/plain": "Event\nMen         94\nWomen       88\nDuet        27\nSoftball    20\nTeam        14\nBaseball     6\nName: count, dtype: int64"
     },
     "execution_count": 7,
     "metadata": {},
     "output_type": "execute_result"
    }
   ],
   "source": [
    "treinadores.Event.value_counts()"
   ]
  },
  {
   "cell_type": "code",
   "execution_count": 8,
   "metadata": {
    "ExecuteTime": {
     "end_time": "2024-02-16T10:33:43.315690300Z",
     "start_time": "2024-02-16T10:33:43.150691800Z"
    }
   },
   "outputs": [
    {
     "data": {
      "text/plain": "(61, 9)"
     },
     "execution_count": 8,
     "metadata": {},
     "output_type": "execute_result"
    }
   ],
   "source": [
    "treinadores.NOC.nunique(), treinadores.Discipline.nunique()"
   ]
  },
  {
   "cell_type": "code",
   "execution_count": 9,
   "metadata": {
    "ExecuteTime": {
     "end_time": "2024-02-16T10:33:43.355946400Z",
     "start_time": "2024-02-16T10:33:43.160522900Z"
    }
   },
   "outputs": [],
   "source": [
    "ent_gen = pd.read_excel('EntriesGender.xlsx')"
   ]
  },
  {
   "cell_type": "code",
   "execution_count": 10,
   "metadata": {
    "ExecuteTime": {
     "end_time": "2024-02-16T10:33:43.375946400Z",
     "start_time": "2024-02-16T10:33:43.187818100Z"
    }
   },
   "outputs": [
    {
     "data": {
      "text/plain": "            Discipline  Female  Male  Total\n0       3x3 Basketball      32    32     64\n1              Archery      64    64    128\n2  Artistic Gymnastics      98    98    196\n3    Artistic Swimming     105     0    105\n4            Athletics     969  1072   2041",
      "text/html": "<div>\n<style scoped>\n    .dataframe tbody tr th:only-of-type {\n        vertical-align: middle;\n    }\n\n    .dataframe tbody tr th {\n        vertical-align: top;\n    }\n\n    .dataframe thead th {\n        text-align: right;\n    }\n</style>\n<table border=\"1\" class=\"dataframe\">\n  <thead>\n    <tr style=\"text-align: right;\">\n      <th></th>\n      <th>Discipline</th>\n      <th>Female</th>\n      <th>Male</th>\n      <th>Total</th>\n    </tr>\n  </thead>\n  <tbody>\n    <tr>\n      <th>0</th>\n      <td>3x3 Basketball</td>\n      <td>32</td>\n      <td>32</td>\n      <td>64</td>\n    </tr>\n    <tr>\n      <th>1</th>\n      <td>Archery</td>\n      <td>64</td>\n      <td>64</td>\n      <td>128</td>\n    </tr>\n    <tr>\n      <th>2</th>\n      <td>Artistic Gymnastics</td>\n      <td>98</td>\n      <td>98</td>\n      <td>196</td>\n    </tr>\n    <tr>\n      <th>3</th>\n      <td>Artistic Swimming</td>\n      <td>105</td>\n      <td>0</td>\n      <td>105</td>\n    </tr>\n    <tr>\n      <th>4</th>\n      <td>Athletics</td>\n      <td>969</td>\n      <td>1072</td>\n      <td>2041</td>\n    </tr>\n  </tbody>\n</table>\n</div>"
     },
     "execution_count": 10,
     "metadata": {},
     "output_type": "execute_result"
    }
   ],
   "source": [
    "ent_gen.head()"
   ]
  },
  {
   "cell_type": "code",
   "execution_count": 11,
   "metadata": {
    "ExecuteTime": {
     "end_time": "2024-02-16T10:33:43.505875300Z",
     "start_time": "2024-02-16T10:33:43.197201500Z"
    }
   },
   "outputs": [
    {
     "name": "stderr",
     "output_type": "stream",
     "text": [
      "C:\\Users\\rafae\\anaconda3\\Lib\\site-packages\\openpyxl\\styles\\stylesheet.py:226: UserWarning: Workbook contains no default style, apply openpyxl's default\n",
      "  warn(\"Workbook contains no default style, apply openpyxl's default\")\n"
     ]
    }
   ],
   "source": [
    "medalhas = pd.read_excel('Medals.xlsx')"
   ]
  },
  {
   "cell_type": "code",
   "execution_count": 12,
   "metadata": {
    "ExecuteTime": {
     "end_time": "2024-02-16T10:33:43.533148400Z",
     "start_time": "2024-02-16T10:33:43.230458200Z"
    }
   },
   "outputs": [
    {
     "data": {
      "text/plain": "    Rank                    Team/NOC  Gold  Silver  Bronze  Total  \\\n0      1    United States of America    39      41      33    113   \n1      2  People's Republic of China    38      32      18     88   \n2      3                       Japan    27      14      17     58   \n3      4               Great Britain    22      21      22     65   \n4      5                         ROC    20      28      23     71   \n5      6                   Australia    17       7      22     46   \n6      7                 Netherlands    10      12      14     36   \n7      8                      France    10      12      11     33   \n8      9                     Germany    10      11      16     37   \n9     10                       Italy    10      10      20     40   \n10    11                      Canada     7       6      11     24   \n11    12                      Brazil     7       6       8     21   \n12    13                 New Zealand     7       6       7     20   \n\n    Rank by Total  \n0               1  \n1               2  \n2               5  \n3               4  \n4               3  \n5               6  \n6               9  \n7              10  \n8               8  \n9               7  \n10             11  \n11             12  \n12             13  ",
      "text/html": "<div>\n<style scoped>\n    .dataframe tbody tr th:only-of-type {\n        vertical-align: middle;\n    }\n\n    .dataframe tbody tr th {\n        vertical-align: top;\n    }\n\n    .dataframe thead th {\n        text-align: right;\n    }\n</style>\n<table border=\"1\" class=\"dataframe\">\n  <thead>\n    <tr style=\"text-align: right;\">\n      <th></th>\n      <th>Rank</th>\n      <th>Team/NOC</th>\n      <th>Gold</th>\n      <th>Silver</th>\n      <th>Bronze</th>\n      <th>Total</th>\n      <th>Rank by Total</th>\n    </tr>\n  </thead>\n  <tbody>\n    <tr>\n      <th>0</th>\n      <td>1</td>\n      <td>United States of America</td>\n      <td>39</td>\n      <td>41</td>\n      <td>33</td>\n      <td>113</td>\n      <td>1</td>\n    </tr>\n    <tr>\n      <th>1</th>\n      <td>2</td>\n      <td>People's Republic of China</td>\n      <td>38</td>\n      <td>32</td>\n      <td>18</td>\n      <td>88</td>\n      <td>2</td>\n    </tr>\n    <tr>\n      <th>2</th>\n      <td>3</td>\n      <td>Japan</td>\n      <td>27</td>\n      <td>14</td>\n      <td>17</td>\n      <td>58</td>\n      <td>5</td>\n    </tr>\n    <tr>\n      <th>3</th>\n      <td>4</td>\n      <td>Great Britain</td>\n      <td>22</td>\n      <td>21</td>\n      <td>22</td>\n      <td>65</td>\n      <td>4</td>\n    </tr>\n    <tr>\n      <th>4</th>\n      <td>5</td>\n      <td>ROC</td>\n      <td>20</td>\n      <td>28</td>\n      <td>23</td>\n      <td>71</td>\n      <td>3</td>\n    </tr>\n    <tr>\n      <th>5</th>\n      <td>6</td>\n      <td>Australia</td>\n      <td>17</td>\n      <td>7</td>\n      <td>22</td>\n      <td>46</td>\n      <td>6</td>\n    </tr>\n    <tr>\n      <th>6</th>\n      <td>7</td>\n      <td>Netherlands</td>\n      <td>10</td>\n      <td>12</td>\n      <td>14</td>\n      <td>36</td>\n      <td>9</td>\n    </tr>\n    <tr>\n      <th>7</th>\n      <td>8</td>\n      <td>France</td>\n      <td>10</td>\n      <td>12</td>\n      <td>11</td>\n      <td>33</td>\n      <td>10</td>\n    </tr>\n    <tr>\n      <th>8</th>\n      <td>9</td>\n      <td>Germany</td>\n      <td>10</td>\n      <td>11</td>\n      <td>16</td>\n      <td>37</td>\n      <td>8</td>\n    </tr>\n    <tr>\n      <th>9</th>\n      <td>10</td>\n      <td>Italy</td>\n      <td>10</td>\n      <td>10</td>\n      <td>20</td>\n      <td>40</td>\n      <td>7</td>\n    </tr>\n    <tr>\n      <th>10</th>\n      <td>11</td>\n      <td>Canada</td>\n      <td>7</td>\n      <td>6</td>\n      <td>11</td>\n      <td>24</td>\n      <td>11</td>\n    </tr>\n    <tr>\n      <th>11</th>\n      <td>12</td>\n      <td>Brazil</td>\n      <td>7</td>\n      <td>6</td>\n      <td>8</td>\n      <td>21</td>\n      <td>12</td>\n    </tr>\n    <tr>\n      <th>12</th>\n      <td>13</td>\n      <td>New Zealand</td>\n      <td>7</td>\n      <td>6</td>\n      <td>7</td>\n      <td>20</td>\n      <td>13</td>\n    </tr>\n  </tbody>\n</table>\n</div>"
     },
     "execution_count": 12,
     "metadata": {},
     "output_type": "execute_result"
    }
   ],
   "source": [
    "medalhas.head(13)"
   ]
  },
  {
   "cell_type": "code",
   "execution_count": 13,
   "metadata": {
    "ExecuteTime": {
     "end_time": "2024-02-16T10:33:43.535929300Z",
     "start_time": "2024-02-16T10:33:43.243310900Z"
    }
   },
   "outputs": [
    {
     "data": {
      "text/plain": "93"
     },
     "execution_count": 13,
     "metadata": {},
     "output_type": "execute_result"
    }
   ],
   "source": [
    "medalhas['Team/NOC'].nunique()"
   ]
  },
  {
   "cell_type": "code",
   "execution_count": 14,
   "metadata": {
    "ExecuteTime": {
     "end_time": "2024-02-16T10:33:43.594329200Z",
     "start_time": "2024-02-16T10:33:43.253429900Z"
    }
   },
   "outputs": [],
   "source": [
    "times = pd.read_excel('Teams.xlsx')"
   ]
  },
  {
   "cell_type": "code",
   "execution_count": 15,
   "metadata": {
    "ExecuteTime": {
     "end_time": "2024-02-16T10:33:43.610662900Z",
     "start_time": "2024-02-16T10:33:43.314687600Z"
    }
   },
   "outputs": [
    {
     "data": {
      "text/plain": "      Name      Discipline                         NOC  Event\n0  Belgium  3x3 Basketball                     Belgium    Men\n1    China  3x3 Basketball  People's Republic of China    Men\n2    China  3x3 Basketball  People's Republic of China  Women\n3   France  3x3 Basketball                      France  Women\n4    Italy  3x3 Basketball                       Italy  Women",
      "text/html": "<div>\n<style scoped>\n    .dataframe tbody tr th:only-of-type {\n        vertical-align: middle;\n    }\n\n    .dataframe tbody tr th {\n        vertical-align: top;\n    }\n\n    .dataframe thead th {\n        text-align: right;\n    }\n</style>\n<table border=\"1\" class=\"dataframe\">\n  <thead>\n    <tr style=\"text-align: right;\">\n      <th></th>\n      <th>Name</th>\n      <th>Discipline</th>\n      <th>NOC</th>\n      <th>Event</th>\n    </tr>\n  </thead>\n  <tbody>\n    <tr>\n      <th>0</th>\n      <td>Belgium</td>\n      <td>3x3 Basketball</td>\n      <td>Belgium</td>\n      <td>Men</td>\n    </tr>\n    <tr>\n      <th>1</th>\n      <td>China</td>\n      <td>3x3 Basketball</td>\n      <td>People's Republic of China</td>\n      <td>Men</td>\n    </tr>\n    <tr>\n      <th>2</th>\n      <td>China</td>\n      <td>3x3 Basketball</td>\n      <td>People's Republic of China</td>\n      <td>Women</td>\n    </tr>\n    <tr>\n      <th>3</th>\n      <td>France</td>\n      <td>3x3 Basketball</td>\n      <td>France</td>\n      <td>Women</td>\n    </tr>\n    <tr>\n      <th>4</th>\n      <td>Italy</td>\n      <td>3x3 Basketball</td>\n      <td>Italy</td>\n      <td>Women</td>\n    </tr>\n  </tbody>\n</table>\n</div>"
     },
     "execution_count": 15,
     "metadata": {},
     "output_type": "execute_result"
    }
   ],
   "source": [
    "times.head()"
   ]
  },
  {
   "cell_type": "code",
   "execution_count": 16,
   "metadata": {
    "ExecuteTime": {
     "end_time": "2024-02-16T10:33:43.614905400Z",
     "start_time": "2024-02-16T10:33:43.330598800Z"
    }
   },
   "outputs": [
    {
     "data": {
      "text/plain": "(84, 20)"
     },
     "execution_count": 16,
     "metadata": {},
     "output_type": "execute_result"
    }
   ],
   "source": [
    "times.NOC.nunique(), times.Discipline.nunique()"
   ]
  },
  {
   "cell_type": "code",
   "execution_count": 17,
   "metadata": {
    "ExecuteTime": {
     "end_time": "2024-02-16T10:33:43.623814Z",
     "start_time": "2024-02-16T10:33:43.349664700Z"
    }
   },
   "outputs": [
    {
     "data": {
      "text/plain": "Name\nJapan                45\nUnited States        43\nItaly                34\nGermany              32\nFrance               32\n                     ..\nLudwig/Kozuch         1\nThole J./Wickler      1\nPerusic/Schweiner     1\nLidy/Leila            1\nVenezuela             1\nName: count, Length: 146, dtype: int64"
     },
     "execution_count": 17,
     "metadata": {},
     "output_type": "execute_result"
    }
   ],
   "source": [
    "times.Name.value_counts()"
   ]
  },
  {
   "cell_type": "code",
   "execution_count": 18,
   "metadata": {
    "ExecuteTime": {
     "end_time": "2024-02-16T10:33:43.634705900Z",
     "start_time": "2024-02-16T10:33:43.358124400Z"
    }
   },
   "outputs": [
    {
     "data": {
      "text/plain": "Event\nMen                                 120\nWomen                               114\nMen's Team                           40\nWomen's Team                         40\nMixed Team                           29\nDuet                                 22\nMixed Relay                          18\nWomen's 4 x 200m Freestyle Relay     17\nWomen's 4 x 400m Relay               16\nWomen's 4 x 100m Medley Relay        16\nMen's 4 x 200m Freestyle Relay       16\nMixed 4 x 100m Medley Relay          16\nMen's 4 x 100m Medley Relay          16\nWomen's 4 x 100m Freestyle Relay     16\nWomen's Madison                      16\nMen's Madison                        16\nMixed Doubles                        16\nWomen's 4 x 100m Relay               16\nMen's 4 x 100m Relay                 16\nMen's 4 x 400m Relay                 16\nMen's 4 x 100m Freestyle Relay       16\n4 x 400m Relay Mixed                 15\nGroup All-Around                     14\nTeam                                 10\nMen's Foil Team                       9\nMen's Épée Team                       9\nWomen's Sabre Team                    9\nMen's Sabre Team                      9\nWomen's Foil Team                     8\nWomen's Épée Team                     8\nWomen's Team Sprint                   8\nMen's Team Sprint                     8\nMen's Team Pursuit                    8\nWomen's Team Pursuit                  8\nBaseball                              6\nSoftball                              6\nName: count, dtype: int64"
     },
     "execution_count": 18,
     "metadata": {},
     "output_type": "execute_result"
    }
   ],
   "source": [
    "times.Event.value_counts()"
   ]
  },
  {
   "cell_type": "markdown",
   "metadata": {},
   "source": [
    "### Transformação"
   ]
  },
  {
   "cell_type": "markdown",
   "metadata": {},
   "source": [
    "#### atletas por modalidade por país"
   ]
  },
  {
   "cell_type": "code",
   "execution_count": 19,
   "metadata": {
    "ExecuteTime": {
     "end_time": "2024-02-16T10:33:43.644273900Z",
     "start_time": "2024-02-16T10:33:43.381184800Z"
    }
   },
   "outputs": [
    {
     "data": {
      "text/plain": "                Name     NOC           Discipline\n0    AALERUD Katrine  Norway         Cycling Road\n1        ABAD Nestor   Spain  Artistic Gymnastics\n2  ABAGNALE Giovanni   Italy               Rowing\n3     ABALDE Alberto   Spain           Basketball\n4      ABALDE Tamara   Spain           Basketball",
      "text/html": "<div>\n<style scoped>\n    .dataframe tbody tr th:only-of-type {\n        vertical-align: middle;\n    }\n\n    .dataframe tbody tr th {\n        vertical-align: top;\n    }\n\n    .dataframe thead th {\n        text-align: right;\n    }\n</style>\n<table border=\"1\" class=\"dataframe\">\n  <thead>\n    <tr style=\"text-align: right;\">\n      <th></th>\n      <th>Name</th>\n      <th>NOC</th>\n      <th>Discipline</th>\n    </tr>\n  </thead>\n  <tbody>\n    <tr>\n      <th>0</th>\n      <td>AALERUD Katrine</td>\n      <td>Norway</td>\n      <td>Cycling Road</td>\n    </tr>\n    <tr>\n      <th>1</th>\n      <td>ABAD Nestor</td>\n      <td>Spain</td>\n      <td>Artistic Gymnastics</td>\n    </tr>\n    <tr>\n      <th>2</th>\n      <td>ABAGNALE Giovanni</td>\n      <td>Italy</td>\n      <td>Rowing</td>\n    </tr>\n    <tr>\n      <th>3</th>\n      <td>ABALDE Alberto</td>\n      <td>Spain</td>\n      <td>Basketball</td>\n    </tr>\n    <tr>\n      <th>4</th>\n      <td>ABALDE Tamara</td>\n      <td>Spain</td>\n      <td>Basketball</td>\n    </tr>\n  </tbody>\n</table>\n</div>"
     },
     "execution_count": 19,
     "metadata": {},
     "output_type": "execute_result"
    }
   ],
   "source": [
    "atletas.head()"
   ]
  },
  {
   "cell_type": "code",
   "execution_count": 20,
   "metadata": {
    "ExecuteTime": {
     "end_time": "2024-02-16T10:33:43.815694800Z",
     "start_time": "2024-02-16T10:33:43.403209300Z"
    }
   },
   "outputs": [],
   "source": [
    "atletas_disc = atletas.groupby(['NOC', 'Discipline'])['Name'].nunique()"
   ]
  },
  {
   "cell_type": "code",
   "execution_count": 21,
   "metadata": {
    "ExecuteTime": {
     "end_time": "2024-02-16T10:33:43.878287600Z",
     "start_time": "2024-02-16T10:33:43.419546800Z"
    }
   },
   "outputs": [
    {
     "data": {
      "text/plain": "NOC          Discipline         \nAfghanistan  Athletics              2\n             Shooting               1\n             Swimming               1\n             Taekwondo              1\nAlbania      Artistic Gymnastics    1\n                                   ..\nZambia       Swimming               2\nZimbabwe     Athletics              1\n             Golf                   1\n             Rowing                 1\n             Swimming               2\nName: Name, Length: 2112, dtype: int64"
     },
     "execution_count": 21,
     "metadata": {},
     "output_type": "execute_result"
    }
   ],
   "source": [
    "atletas_disc"
   ]
  },
  {
   "cell_type": "code",
   "execution_count": 22,
   "metadata": {
    "ExecuteTime": {
     "end_time": "2024-02-16T10:33:43.910695Z",
     "start_time": "2024-02-16T10:33:43.435770500Z"
    }
   },
   "outputs": [],
   "source": [
    "atletas_disc = pd.DataFrame(atletas_disc).reset_index().rename(columns={'Name': 'numero_atletas', \n",
    "                                                                        'Discipline': 'modalidade', \n",
    "                                                                        'NOC': 'pais'})"
   ]
  },
  {
   "cell_type": "markdown",
   "metadata": {},
   "source": [
    "#### Treinadores por modalidade e país"
   ]
  },
  {
   "cell_type": "code",
   "execution_count": 23,
   "metadata": {
    "ExecuteTime": {
     "end_time": "2024-02-16T10:33:43.916073900Z",
     "start_time": "2024-02-16T10:33:43.449253600Z"
    }
   },
   "outputs": [
    {
     "data": {
      "text/plain": "              Name            NOC  Discipline Event\n0  ABDELMAGID Wael          Egypt    Football   NaN\n1        ABE Junya          Japan  Volleyball   NaN\n2    ABE Katsuhiko          Japan  Basketball   NaN\n3     ADAMA Cherif  Côte d'Ivoire    Football   NaN\n4       AGEBA Yuya          Japan  Volleyball   NaN",
      "text/html": "<div>\n<style scoped>\n    .dataframe tbody tr th:only-of-type {\n        vertical-align: middle;\n    }\n\n    .dataframe tbody tr th {\n        vertical-align: top;\n    }\n\n    .dataframe thead th {\n        text-align: right;\n    }\n</style>\n<table border=\"1\" class=\"dataframe\">\n  <thead>\n    <tr style=\"text-align: right;\">\n      <th></th>\n      <th>Name</th>\n      <th>NOC</th>\n      <th>Discipline</th>\n      <th>Event</th>\n    </tr>\n  </thead>\n  <tbody>\n    <tr>\n      <th>0</th>\n      <td>ABDELMAGID Wael</td>\n      <td>Egypt</td>\n      <td>Football</td>\n      <td>NaN</td>\n    </tr>\n    <tr>\n      <th>1</th>\n      <td>ABE Junya</td>\n      <td>Japan</td>\n      <td>Volleyball</td>\n      <td>NaN</td>\n    </tr>\n    <tr>\n      <th>2</th>\n      <td>ABE Katsuhiko</td>\n      <td>Japan</td>\n      <td>Basketball</td>\n      <td>NaN</td>\n    </tr>\n    <tr>\n      <th>3</th>\n      <td>ADAMA Cherif</td>\n      <td>Côte d'Ivoire</td>\n      <td>Football</td>\n      <td>NaN</td>\n    </tr>\n    <tr>\n      <th>4</th>\n      <td>AGEBA Yuya</td>\n      <td>Japan</td>\n      <td>Volleyball</td>\n      <td>NaN</td>\n    </tr>\n  </tbody>\n</table>\n</div>"
     },
     "execution_count": 23,
     "metadata": {},
     "output_type": "execute_result"
    }
   ],
   "source": [
    "treinadores.head()"
   ]
  },
  {
   "cell_type": "code",
   "execution_count": 24,
   "metadata": {
    "ExecuteTime": {
     "end_time": "2024-02-16T10:33:43.969611100Z",
     "start_time": "2024-02-16T10:33:43.464084500Z"
    }
   },
   "outputs": [],
   "source": [
    "treinadores_disc = pd.DataFrame(treinadores.groupby(['NOC', 'Discipline'])['Name'].nunique()).\\\n",
    "reset_index().rename(columns={'Name': 'numero_treinadores', \n",
    "                              'Discipline': 'modalidade', \n",
    "                              'NOC': 'pais'})"
   ]
  },
  {
   "cell_type": "code",
   "execution_count": 25,
   "metadata": {
    "ExecuteTime": {
     "end_time": "2024-02-16T10:33:43.973739500Z",
     "start_time": "2024-02-16T10:33:43.477295900Z"
    }
   },
   "outputs": [
    {
     "data": {
      "text/plain": "                         pais         modalidade  numero_treinadores\n0                      Angola           Handball                   1\n1                   Argentina  Artistic Swimming                   1\n2                   Argentina         Basketball                   1\n3                   Argentina           Football                   1\n4                   Argentina           Handball                   1\n..                        ...                ...                 ...\n156  United States of America         Volleyball                   5\n157  United States of America         Water Polo                   2\n158                 Venezuela         Basketball                   6\n159                 Venezuela         Volleyball                   4\n160                    Zambia           Football                   2\n\n[161 rows x 3 columns]",
      "text/html": "<div>\n<style scoped>\n    .dataframe tbody tr th:only-of-type {\n        vertical-align: middle;\n    }\n\n    .dataframe tbody tr th {\n        vertical-align: top;\n    }\n\n    .dataframe thead th {\n        text-align: right;\n    }\n</style>\n<table border=\"1\" class=\"dataframe\">\n  <thead>\n    <tr style=\"text-align: right;\">\n      <th></th>\n      <th>pais</th>\n      <th>modalidade</th>\n      <th>numero_treinadores</th>\n    </tr>\n  </thead>\n  <tbody>\n    <tr>\n      <th>0</th>\n      <td>Angola</td>\n      <td>Handball</td>\n      <td>1</td>\n    </tr>\n    <tr>\n      <th>1</th>\n      <td>Argentina</td>\n      <td>Artistic Swimming</td>\n      <td>1</td>\n    </tr>\n    <tr>\n      <th>2</th>\n      <td>Argentina</td>\n      <td>Basketball</td>\n      <td>1</td>\n    </tr>\n    <tr>\n      <th>3</th>\n      <td>Argentina</td>\n      <td>Football</td>\n      <td>1</td>\n    </tr>\n    <tr>\n      <th>4</th>\n      <td>Argentina</td>\n      <td>Handball</td>\n      <td>1</td>\n    </tr>\n    <tr>\n      <th>...</th>\n      <td>...</td>\n      <td>...</td>\n      <td>...</td>\n    </tr>\n    <tr>\n      <th>156</th>\n      <td>United States of America</td>\n      <td>Volleyball</td>\n      <td>5</td>\n    </tr>\n    <tr>\n      <th>157</th>\n      <td>United States of America</td>\n      <td>Water Polo</td>\n      <td>2</td>\n    </tr>\n    <tr>\n      <th>158</th>\n      <td>Venezuela</td>\n      <td>Basketball</td>\n      <td>6</td>\n    </tr>\n    <tr>\n      <th>159</th>\n      <td>Venezuela</td>\n      <td>Volleyball</td>\n      <td>4</td>\n    </tr>\n    <tr>\n      <th>160</th>\n      <td>Zambia</td>\n      <td>Football</td>\n      <td>2</td>\n    </tr>\n  </tbody>\n</table>\n<p>161 rows × 3 columns</p>\n</div>"
     },
     "execution_count": 25,
     "metadata": {},
     "output_type": "execute_result"
    }
   ],
   "source": [
    "treinadores_disc"
   ]
  },
  {
   "cell_type": "markdown",
   "metadata": {},
   "source": [
    "#### Times por disciplina por país"
   ]
  },
  {
   "cell_type": "code",
   "execution_count": 26,
   "metadata": {
    "ExecuteTime": {
     "end_time": "2024-02-16T10:33:44.010371800Z",
     "start_time": "2024-02-16T10:33:43.494608700Z"
    }
   },
   "outputs": [
    {
     "data": {
      "text/plain": "      Name      Discipline                         NOC  Event\n0  Belgium  3x3 Basketball                     Belgium    Men\n1    China  3x3 Basketball  People's Republic of China    Men\n2    China  3x3 Basketball  People's Republic of China  Women\n3   France  3x3 Basketball                      France  Women\n4    Italy  3x3 Basketball                       Italy  Women",
      "text/html": "<div>\n<style scoped>\n    .dataframe tbody tr th:only-of-type {\n        vertical-align: middle;\n    }\n\n    .dataframe tbody tr th {\n        vertical-align: top;\n    }\n\n    .dataframe thead th {\n        text-align: right;\n    }\n</style>\n<table border=\"1\" class=\"dataframe\">\n  <thead>\n    <tr style=\"text-align: right;\">\n      <th></th>\n      <th>Name</th>\n      <th>Discipline</th>\n      <th>NOC</th>\n      <th>Event</th>\n    </tr>\n  </thead>\n  <tbody>\n    <tr>\n      <th>0</th>\n      <td>Belgium</td>\n      <td>3x3 Basketball</td>\n      <td>Belgium</td>\n      <td>Men</td>\n    </tr>\n    <tr>\n      <th>1</th>\n      <td>China</td>\n      <td>3x3 Basketball</td>\n      <td>People's Republic of China</td>\n      <td>Men</td>\n    </tr>\n    <tr>\n      <th>2</th>\n      <td>China</td>\n      <td>3x3 Basketball</td>\n      <td>People's Republic of China</td>\n      <td>Women</td>\n    </tr>\n    <tr>\n      <th>3</th>\n      <td>France</td>\n      <td>3x3 Basketball</td>\n      <td>France</td>\n      <td>Women</td>\n    </tr>\n    <tr>\n      <th>4</th>\n      <td>Italy</td>\n      <td>3x3 Basketball</td>\n      <td>Italy</td>\n      <td>Women</td>\n    </tr>\n  </tbody>\n</table>\n</div>"
     },
     "execution_count": 26,
     "metadata": {},
     "output_type": "execute_result"
    }
   ],
   "source": [
    "times.head()"
   ]
  },
  {
   "cell_type": "code",
   "execution_count": 27,
   "metadata": {
    "ExecuteTime": {
     "end_time": "2024-02-16T10:33:44.031629300Z",
     "start_time": "2024-02-16T10:33:43.510995400Z"
    }
   },
   "outputs": [],
   "source": [
    "times['categoria'] = times.Event.apply(lambda x: 'Masculino' if 'Men' in x \n",
    "                                       else ('Feminino' if 'Women' in x \n",
    "                                             else ('Misto' if 'Mixed' in x \n",
    "                                                   else 'Outros')))"
   ]
  },
  {
   "cell_type": "code",
   "execution_count": 28,
   "metadata": {
    "ExecuteTime": {
     "end_time": "2024-02-16T10:33:44.048553500Z",
     "start_time": "2024-02-16T10:33:43.532151800Z"
    }
   },
   "outputs": [
    {
     "data": {
      "text/plain": "              Name  Discipline                       NOC  Event  categoria\n738   South Africa  Water Polo              South Africa  Women   Feminino\n739          Spain  Water Polo                     Spain    Men  Masculino\n740          Spain  Water Polo                     Spain  Women   Feminino\n741  United States  Water Polo  United States of America    Men  Masculino\n742  United States  Water Polo  United States of America  Women   Feminino",
      "text/html": "<div>\n<style scoped>\n    .dataframe tbody tr th:only-of-type {\n        vertical-align: middle;\n    }\n\n    .dataframe tbody tr th {\n        vertical-align: top;\n    }\n\n    .dataframe thead th {\n        text-align: right;\n    }\n</style>\n<table border=\"1\" class=\"dataframe\">\n  <thead>\n    <tr style=\"text-align: right;\">\n      <th></th>\n      <th>Name</th>\n      <th>Discipline</th>\n      <th>NOC</th>\n      <th>Event</th>\n      <th>categoria</th>\n    </tr>\n  </thead>\n  <tbody>\n    <tr>\n      <th>738</th>\n      <td>South Africa</td>\n      <td>Water Polo</td>\n      <td>South Africa</td>\n      <td>Women</td>\n      <td>Feminino</td>\n    </tr>\n    <tr>\n      <th>739</th>\n      <td>Spain</td>\n      <td>Water Polo</td>\n      <td>Spain</td>\n      <td>Men</td>\n      <td>Masculino</td>\n    </tr>\n    <tr>\n      <th>740</th>\n      <td>Spain</td>\n      <td>Water Polo</td>\n      <td>Spain</td>\n      <td>Women</td>\n      <td>Feminino</td>\n    </tr>\n    <tr>\n      <th>741</th>\n      <td>United States</td>\n      <td>Water Polo</td>\n      <td>United States of America</td>\n      <td>Men</td>\n      <td>Masculino</td>\n    </tr>\n    <tr>\n      <th>742</th>\n      <td>United States</td>\n      <td>Water Polo</td>\n      <td>United States of America</td>\n      <td>Women</td>\n      <td>Feminino</td>\n    </tr>\n  </tbody>\n</table>\n</div>"
     },
     "execution_count": 28,
     "metadata": {},
     "output_type": "execute_result"
    }
   ],
   "source": [
    "times.tail()"
   ]
  },
  {
   "cell_type": "code",
   "execution_count": 29,
   "metadata": {
    "ExecuteTime": {
     "end_time": "2024-02-16T10:33:44.059332800Z",
     "start_time": "2024-02-16T10:33:43.541292Z"
    }
   },
   "outputs": [
    {
     "data": {
      "text/plain": "categoria\nMasculino    299\nFeminino     292\nMisto         94\nOutros        58\nName: count, dtype: int64"
     },
     "execution_count": 29,
     "metadata": {},
     "output_type": "execute_result"
    }
   ],
   "source": [
    "times.categoria.value_counts()"
   ]
  },
  {
   "cell_type": "code",
   "execution_count": 30,
   "metadata": {
    "ExecuteTime": {
     "end_time": "2024-02-16T10:33:44.074635700Z",
     "start_time": "2024-02-16T10:33:43.558328200Z"
    }
   },
   "outputs": [],
   "source": [
    "times_masc = pd.DataFrame(times[times.categoria == 'Masculino'].groupby(['NOC', 'Discipline'])['Name'].nunique()).\\\n",
    "reset_index().rename(columns={'Name': 'times_masculinos', \n",
    "                              'Discipline': 'modalidade', \n",
    "                              'NOC': 'pais'})"
   ]
  },
  {
   "cell_type": "code",
   "execution_count": 31,
   "metadata": {
    "ExecuteTime": {
     "end_time": "2024-02-16T10:33:44.076818200Z",
     "start_time": "2024-02-16T10:33:43.578723400Z"
    }
   },
   "outputs": [],
   "source": [
    "times_fem = pd.DataFrame(times[times.categoria == 'Feminino'].groupby(['NOC', 'Discipline'])['Name'].nunique()).\\\n",
    "reset_index().rename(columns={'Name': 'times_femininos', \n",
    "                              'Discipline': 'modalidade', \n",
    "                              'NOC': 'pais'})"
   ]
  },
  {
   "cell_type": "code",
   "execution_count": 32,
   "metadata": {
    "ExecuteTime": {
     "end_time": "2024-02-16T10:33:44.099597400Z",
     "start_time": "2024-02-16T10:33:43.594329200Z"
    }
   },
   "outputs": [],
   "source": [
    "times_misto = pd.DataFrame(times[times.categoria == 'Misto'].groupby(['NOC', 'Discipline'])['Name'].nunique()).\\\n",
    "reset_index().rename(columns={'Name': 'times_mistos', \n",
    "                              'Discipline': 'modalidade', \n",
    "                              'NOC': 'pais'})"
   ]
  },
  {
   "cell_type": "code",
   "execution_count": 33,
   "metadata": {
    "ExecuteTime": {
     "end_time": "2024-02-16T10:33:44.110230100Z",
     "start_time": "2024-02-16T10:33:43.610662900Z"
    }
   },
   "outputs": [],
   "source": [
    "times_outros = pd.DataFrame(times[times.categoria == 'Outros'].groupby(['NOC', 'Discipline'])['Name'].nunique()).\\\n",
    "reset_index().rename(columns={'Name': 'times_outros', \n",
    "                              'Discipline': 'modalidade', \n",
    "                              'NOC': 'pais'})"
   ]
  },
  {
   "cell_type": "code",
   "execution_count": 34,
   "metadata": {
    "ExecuteTime": {
     "end_time": "2024-02-16T10:33:44.117047700Z",
     "start_time": "2024-02-16T10:33:43.625865300Z"
    }
   },
   "outputs": [
    {
     "data": {
      "text/plain": "                         pais        modalidade  times_masculinos\n0                   Argentina        Basketball                 1\n1                   Argentina  Beach Volleyball                 1\n2                   Argentina          Football                 1\n3                   Argentina          Handball                 1\n4                   Argentina            Hockey                 1\n..                        ...               ...               ...\n226  United States of America          Swimming                 1\n227  United States of America      Table Tennis                 1\n228  United States of America        Volleyball                 1\n229  United States of America        Water Polo                 1\n230                 Venezuela        Volleyball                 1\n\n[231 rows x 3 columns]",
      "text/html": "<div>\n<style scoped>\n    .dataframe tbody tr th:only-of-type {\n        vertical-align: middle;\n    }\n\n    .dataframe tbody tr th {\n        vertical-align: top;\n    }\n\n    .dataframe thead th {\n        text-align: right;\n    }\n</style>\n<table border=\"1\" class=\"dataframe\">\n  <thead>\n    <tr style=\"text-align: right;\">\n      <th></th>\n      <th>pais</th>\n      <th>modalidade</th>\n      <th>times_masculinos</th>\n    </tr>\n  </thead>\n  <tbody>\n    <tr>\n      <th>0</th>\n      <td>Argentina</td>\n      <td>Basketball</td>\n      <td>1</td>\n    </tr>\n    <tr>\n      <th>1</th>\n      <td>Argentina</td>\n      <td>Beach Volleyball</td>\n      <td>1</td>\n    </tr>\n    <tr>\n      <th>2</th>\n      <td>Argentina</td>\n      <td>Football</td>\n      <td>1</td>\n    </tr>\n    <tr>\n      <th>3</th>\n      <td>Argentina</td>\n      <td>Handball</td>\n      <td>1</td>\n    </tr>\n    <tr>\n      <th>4</th>\n      <td>Argentina</td>\n      <td>Hockey</td>\n      <td>1</td>\n    </tr>\n    <tr>\n      <th>...</th>\n      <td>...</td>\n      <td>...</td>\n      <td>...</td>\n    </tr>\n    <tr>\n      <th>226</th>\n      <td>United States of America</td>\n      <td>Swimming</td>\n      <td>1</td>\n    </tr>\n    <tr>\n      <th>227</th>\n      <td>United States of America</td>\n      <td>Table Tennis</td>\n      <td>1</td>\n    </tr>\n    <tr>\n      <th>228</th>\n      <td>United States of America</td>\n      <td>Volleyball</td>\n      <td>1</td>\n    </tr>\n    <tr>\n      <th>229</th>\n      <td>United States of America</td>\n      <td>Water Polo</td>\n      <td>1</td>\n    </tr>\n    <tr>\n      <th>230</th>\n      <td>Venezuela</td>\n      <td>Volleyball</td>\n      <td>1</td>\n    </tr>\n  </tbody>\n</table>\n<p>231 rows × 3 columns</p>\n</div>"
     },
     "execution_count": 34,
     "metadata": {},
     "output_type": "execute_result"
    }
   ],
   "source": [
    "times_masc"
   ]
  },
  {
   "cell_type": "code",
   "execution_count": 35,
   "metadata": {
    "ExecuteTime": {
     "end_time": "2024-02-16T10:33:44.127709400Z",
     "start_time": "2024-02-16T10:33:43.643274Z"
    }
   },
   "outputs": [
    {
     "data": {
      "text/plain": "                         pais        modalidade  times_femininos\n0                      Angola          Handball                1\n1                   Argentina  Beach Volleyball                1\n2                   Argentina            Hockey                1\n3                   Argentina        Volleyball                1\n4                   Australia         Athletics                1\n..                        ...               ...              ...\n223  United States of America          Swimming                1\n224  United States of America      Table Tennis                1\n225  United States of America        Volleyball                1\n226  United States of America        Water Polo                1\n227                    Zambia          Football                1\n\n[228 rows x 3 columns]",
      "text/html": "<div>\n<style scoped>\n    .dataframe tbody tr th:only-of-type {\n        vertical-align: middle;\n    }\n\n    .dataframe tbody tr th {\n        vertical-align: top;\n    }\n\n    .dataframe thead th {\n        text-align: right;\n    }\n</style>\n<table border=\"1\" class=\"dataframe\">\n  <thead>\n    <tr style=\"text-align: right;\">\n      <th></th>\n      <th>pais</th>\n      <th>modalidade</th>\n      <th>times_femininos</th>\n    </tr>\n  </thead>\n  <tbody>\n    <tr>\n      <th>0</th>\n      <td>Angola</td>\n      <td>Handball</td>\n      <td>1</td>\n    </tr>\n    <tr>\n      <th>1</th>\n      <td>Argentina</td>\n      <td>Beach Volleyball</td>\n      <td>1</td>\n    </tr>\n    <tr>\n      <th>2</th>\n      <td>Argentina</td>\n      <td>Hockey</td>\n      <td>1</td>\n    </tr>\n    <tr>\n      <th>3</th>\n      <td>Argentina</td>\n      <td>Volleyball</td>\n      <td>1</td>\n    </tr>\n    <tr>\n      <th>4</th>\n      <td>Australia</td>\n      <td>Athletics</td>\n      <td>1</td>\n    </tr>\n    <tr>\n      <th>...</th>\n      <td>...</td>\n      <td>...</td>\n      <td>...</td>\n    </tr>\n    <tr>\n      <th>223</th>\n      <td>United States of America</td>\n      <td>Swimming</td>\n      <td>1</td>\n    </tr>\n    <tr>\n      <th>224</th>\n      <td>United States of America</td>\n      <td>Table Tennis</td>\n      <td>1</td>\n    </tr>\n    <tr>\n      <th>225</th>\n      <td>United States of America</td>\n      <td>Volleyball</td>\n      <td>1</td>\n    </tr>\n    <tr>\n      <th>226</th>\n      <td>United States of America</td>\n      <td>Water Polo</td>\n      <td>1</td>\n    </tr>\n    <tr>\n      <th>227</th>\n      <td>Zambia</td>\n      <td>Football</td>\n      <td>1</td>\n    </tr>\n  </tbody>\n</table>\n<p>228 rows × 3 columns</p>\n</div>"
     },
     "execution_count": 35,
     "metadata": {},
     "output_type": "execute_result"
    }
   ],
   "source": [
    "times_fem"
   ]
  },
  {
   "cell_type": "code",
   "execution_count": 36,
   "metadata": {
    "ExecuteTime": {
     "end_time": "2024-02-16T10:33:44.132571900Z",
     "start_time": "2024-02-16T10:33:43.659855Z"
    }
   },
   "outputs": [
    {
     "data": {
      "text/plain": "                        pais    modalidade  times_mistos\n0                  Australia       Archery             1\n1                  Australia      Swimming             1\n2                  Australia  Table Tennis             1\n3                  Australia     Triathlon             1\n4                    Austria  Table Tennis             1\n..                       ...           ...           ...\n89  United States of America       Archery             1\n90  United States of America     Athletics             1\n91  United States of America      Swimming             1\n92  United States of America     Triathlon             1\n93                   Vietnam       Archery             1\n\n[94 rows x 3 columns]",
      "text/html": "<div>\n<style scoped>\n    .dataframe tbody tr th:only-of-type {\n        vertical-align: middle;\n    }\n\n    .dataframe tbody tr th {\n        vertical-align: top;\n    }\n\n    .dataframe thead th {\n        text-align: right;\n    }\n</style>\n<table border=\"1\" class=\"dataframe\">\n  <thead>\n    <tr style=\"text-align: right;\">\n      <th></th>\n      <th>pais</th>\n      <th>modalidade</th>\n      <th>times_mistos</th>\n    </tr>\n  </thead>\n  <tbody>\n    <tr>\n      <th>0</th>\n      <td>Australia</td>\n      <td>Archery</td>\n      <td>1</td>\n    </tr>\n    <tr>\n      <th>1</th>\n      <td>Australia</td>\n      <td>Swimming</td>\n      <td>1</td>\n    </tr>\n    <tr>\n      <th>2</th>\n      <td>Australia</td>\n      <td>Table Tennis</td>\n      <td>1</td>\n    </tr>\n    <tr>\n      <th>3</th>\n      <td>Australia</td>\n      <td>Triathlon</td>\n      <td>1</td>\n    </tr>\n    <tr>\n      <th>4</th>\n      <td>Austria</td>\n      <td>Table Tennis</td>\n      <td>1</td>\n    </tr>\n    <tr>\n      <th>...</th>\n      <td>...</td>\n      <td>...</td>\n      <td>...</td>\n    </tr>\n    <tr>\n      <th>89</th>\n      <td>United States of America</td>\n      <td>Archery</td>\n      <td>1</td>\n    </tr>\n    <tr>\n      <th>90</th>\n      <td>United States of America</td>\n      <td>Athletics</td>\n      <td>1</td>\n    </tr>\n    <tr>\n      <th>91</th>\n      <td>United States of America</td>\n      <td>Swimming</td>\n      <td>1</td>\n    </tr>\n    <tr>\n      <th>92</th>\n      <td>United States of America</td>\n      <td>Triathlon</td>\n      <td>1</td>\n    </tr>\n    <tr>\n      <th>93</th>\n      <td>Vietnam</td>\n      <td>Archery</td>\n      <td>1</td>\n    </tr>\n  </tbody>\n</table>\n<p>94 rows × 3 columns</p>\n</div>"
     },
     "execution_count": 36,
     "metadata": {},
     "output_type": "execute_result"
    }
   ],
   "source": [
    "times_misto"
   ]
  },
  {
   "cell_type": "code",
   "execution_count": 37,
   "metadata": {
    "ExecuteTime": {
     "end_time": "2024-02-16T10:33:44.176311700Z",
     "start_time": "2024-02-16T10:33:43.681328500Z"
    }
   },
   "outputs": [
    {
     "data": {
      "text/plain": "(45, 3)"
     },
     "execution_count": 37,
     "metadata": {},
     "output_type": "execute_result"
    }
   ],
   "source": [
    "times_outros.shape"
   ]
  },
  {
   "cell_type": "markdown",
   "metadata": {},
   "source": [
    "#### Juntando tabelas"
   ]
  },
  {
   "cell_type": "code",
   "execution_count": 38,
   "metadata": {
    "ExecuteTime": {
     "end_time": "2024-02-16T10:33:44.423957100Z",
     "start_time": "2024-02-16T10:33:43.694655300Z"
    }
   },
   "outputs": [],
   "source": [
    "data_frames = [atletas_disc, \n",
    "               treinadores_disc, \n",
    "               times_masc, \n",
    "               times_fem, \n",
    "               times_misto, \n",
    "               times_outros]"
   ]
  },
  {
   "cell_type": "code",
   "execution_count": 39,
   "metadata": {
    "ExecuteTime": {
     "end_time": "2024-02-16T10:33:44.510703500Z",
     "start_time": "2024-02-16T10:33:43.703627400Z"
    }
   },
   "outputs": [],
   "source": [
    "df_final = reduce(lambda left, right: pd.merge(left, \n",
    "                                               right, on=['pais', 'modalidade'], \n",
    "                                               how='outer'), \n",
    "                  data_frames)"
   ]
  },
  {
   "cell_type": "code",
   "execution_count": 40,
   "metadata": {
    "ExecuteTime": {
     "end_time": "2024-02-16T10:33:44.547232900Z",
     "start_time": "2024-02-16T10:33:43.739882100Z"
    }
   },
   "outputs": [
    {
     "data": {
      "text/plain": "                    pais           modalidade  numero_atletas  \\\n0            Afghanistan            Athletics             2.0   \n1            Afghanistan             Shooting             1.0   \n2            Afghanistan             Swimming             1.0   \n3            Afghanistan            Taekwondo             1.0   \n4                Albania  Artistic Gymnastics             1.0   \n...                  ...                  ...             ...   \n2114  Dominican Republic           Basketball             NaN   \n2115          San Marino    Artistic Swimming             NaN   \n2116              Serbia    Artistic Swimming             NaN   \n2117            Slovakia    Artistic Swimming             NaN   \n2118           Venezuela           Basketball             NaN   \n\n      numero_treinadores  times_masculinos  times_femininos  times_mistos  \\\n0                    NaN               NaN              NaN           NaN   \n1                    NaN               NaN              NaN           NaN   \n2                    NaN               NaN              NaN           NaN   \n3                    NaN               NaN              NaN           NaN   \n4                    NaN               NaN              NaN           NaN   \n...                  ...               ...              ...           ...   \n2114                 4.0               NaN              NaN           NaN   \n2115                 2.0               NaN              NaN           NaN   \n2116                 1.0               NaN              NaN           NaN   \n2117                 1.0               NaN              NaN           NaN   \n2118                 6.0               NaN              NaN           NaN   \n\n      times_outros  \n0              NaN  \n1              NaN  \n2              NaN  \n3              NaN  \n4              NaN  \n...            ...  \n2114           NaN  \n2115           NaN  \n2116           NaN  \n2117           NaN  \n2118           NaN  \n\n[2119 rows x 8 columns]",
      "text/html": "<div>\n<style scoped>\n    .dataframe tbody tr th:only-of-type {\n        vertical-align: middle;\n    }\n\n    .dataframe tbody tr th {\n        vertical-align: top;\n    }\n\n    .dataframe thead th {\n        text-align: right;\n    }\n</style>\n<table border=\"1\" class=\"dataframe\">\n  <thead>\n    <tr style=\"text-align: right;\">\n      <th></th>\n      <th>pais</th>\n      <th>modalidade</th>\n      <th>numero_atletas</th>\n      <th>numero_treinadores</th>\n      <th>times_masculinos</th>\n      <th>times_femininos</th>\n      <th>times_mistos</th>\n      <th>times_outros</th>\n    </tr>\n  </thead>\n  <tbody>\n    <tr>\n      <th>0</th>\n      <td>Afghanistan</td>\n      <td>Athletics</td>\n      <td>2.0</td>\n      <td>NaN</td>\n      <td>NaN</td>\n      <td>NaN</td>\n      <td>NaN</td>\n      <td>NaN</td>\n    </tr>\n    <tr>\n      <th>1</th>\n      <td>Afghanistan</td>\n      <td>Shooting</td>\n      <td>1.0</td>\n      <td>NaN</td>\n      <td>NaN</td>\n      <td>NaN</td>\n      <td>NaN</td>\n      <td>NaN</td>\n    </tr>\n    <tr>\n      <th>2</th>\n      <td>Afghanistan</td>\n      <td>Swimming</td>\n      <td>1.0</td>\n      <td>NaN</td>\n      <td>NaN</td>\n      <td>NaN</td>\n      <td>NaN</td>\n      <td>NaN</td>\n    </tr>\n    <tr>\n      <th>3</th>\n      <td>Afghanistan</td>\n      <td>Taekwondo</td>\n      <td>1.0</td>\n      <td>NaN</td>\n      <td>NaN</td>\n      <td>NaN</td>\n      <td>NaN</td>\n      <td>NaN</td>\n    </tr>\n    <tr>\n      <th>4</th>\n      <td>Albania</td>\n      <td>Artistic Gymnastics</td>\n      <td>1.0</td>\n      <td>NaN</td>\n      <td>NaN</td>\n      <td>NaN</td>\n      <td>NaN</td>\n      <td>NaN</td>\n    </tr>\n    <tr>\n      <th>...</th>\n      <td>...</td>\n      <td>...</td>\n      <td>...</td>\n      <td>...</td>\n      <td>...</td>\n      <td>...</td>\n      <td>...</td>\n      <td>...</td>\n    </tr>\n    <tr>\n      <th>2114</th>\n      <td>Dominican Republic</td>\n      <td>Basketball</td>\n      <td>NaN</td>\n      <td>4.0</td>\n      <td>NaN</td>\n      <td>NaN</td>\n      <td>NaN</td>\n      <td>NaN</td>\n    </tr>\n    <tr>\n      <th>2115</th>\n      <td>San Marino</td>\n      <td>Artistic Swimming</td>\n      <td>NaN</td>\n      <td>2.0</td>\n      <td>NaN</td>\n      <td>NaN</td>\n      <td>NaN</td>\n      <td>NaN</td>\n    </tr>\n    <tr>\n      <th>2116</th>\n      <td>Serbia</td>\n      <td>Artistic Swimming</td>\n      <td>NaN</td>\n      <td>1.0</td>\n      <td>NaN</td>\n      <td>NaN</td>\n      <td>NaN</td>\n      <td>NaN</td>\n    </tr>\n    <tr>\n      <th>2117</th>\n      <td>Slovakia</td>\n      <td>Artistic Swimming</td>\n      <td>NaN</td>\n      <td>1.0</td>\n      <td>NaN</td>\n      <td>NaN</td>\n      <td>NaN</td>\n      <td>NaN</td>\n    </tr>\n    <tr>\n      <th>2118</th>\n      <td>Venezuela</td>\n      <td>Basketball</td>\n      <td>NaN</td>\n      <td>6.0</td>\n      <td>NaN</td>\n      <td>NaN</td>\n      <td>NaN</td>\n      <td>NaN</td>\n    </tr>\n  </tbody>\n</table>\n<p>2119 rows × 8 columns</p>\n</div>"
     },
     "execution_count": 40,
     "metadata": {},
     "output_type": "execute_result"
    }
   ],
   "source": [
    "df_final"
   ]
  },
  {
   "cell_type": "code",
   "execution_count": 41,
   "metadata": {
    "ExecuteTime": {
     "end_time": "2024-02-16T10:33:44.550250800Z",
     "start_time": "2024-02-16T10:33:43.762928500Z"
    }
   },
   "outputs": [],
   "source": [
    "df_final = reduce(lambda left, right: pd.merge(left, \n",
    "                                               right, on=['pais', 'modalidade'], \n",
    "                                               how='outer'), \n",
    "                  data_frames).fillna(0)"
   ]
  },
  {
   "cell_type": "code",
   "execution_count": 42,
   "metadata": {
    "ExecuteTime": {
     "end_time": "2024-02-16T10:33:44.609722300Z",
     "start_time": "2024-02-16T10:33:43.790137800Z"
    }
   },
   "outputs": [
    {
     "data": {
      "text/plain": "                    pais           modalidade  numero_atletas  \\\n0            Afghanistan            Athletics             2.0   \n1            Afghanistan             Shooting             1.0   \n2            Afghanistan             Swimming             1.0   \n3            Afghanistan            Taekwondo             1.0   \n4                Albania  Artistic Gymnastics             1.0   \n...                  ...                  ...             ...   \n2114  Dominican Republic           Basketball             0.0   \n2115          San Marino    Artistic Swimming             0.0   \n2116              Serbia    Artistic Swimming             0.0   \n2117            Slovakia    Artistic Swimming             0.0   \n2118           Venezuela           Basketball             0.0   \n\n      numero_treinadores  times_masculinos  times_femininos  times_mistos  \\\n0                    0.0               0.0              0.0           0.0   \n1                    0.0               0.0              0.0           0.0   \n2                    0.0               0.0              0.0           0.0   \n3                    0.0               0.0              0.0           0.0   \n4                    0.0               0.0              0.0           0.0   \n...                  ...               ...              ...           ...   \n2114                 4.0               0.0              0.0           0.0   \n2115                 2.0               0.0              0.0           0.0   \n2116                 1.0               0.0              0.0           0.0   \n2117                 1.0               0.0              0.0           0.0   \n2118                 6.0               0.0              0.0           0.0   \n\n      times_outros  \n0              0.0  \n1              0.0  \n2              0.0  \n3              0.0  \n4              0.0  \n...            ...  \n2114           0.0  \n2115           0.0  \n2116           0.0  \n2117           0.0  \n2118           0.0  \n\n[2119 rows x 8 columns]",
      "text/html": "<div>\n<style scoped>\n    .dataframe tbody tr th:only-of-type {\n        vertical-align: middle;\n    }\n\n    .dataframe tbody tr th {\n        vertical-align: top;\n    }\n\n    .dataframe thead th {\n        text-align: right;\n    }\n</style>\n<table border=\"1\" class=\"dataframe\">\n  <thead>\n    <tr style=\"text-align: right;\">\n      <th></th>\n      <th>pais</th>\n      <th>modalidade</th>\n      <th>numero_atletas</th>\n      <th>numero_treinadores</th>\n      <th>times_masculinos</th>\n      <th>times_femininos</th>\n      <th>times_mistos</th>\n      <th>times_outros</th>\n    </tr>\n  </thead>\n  <tbody>\n    <tr>\n      <th>0</th>\n      <td>Afghanistan</td>\n      <td>Athletics</td>\n      <td>2.0</td>\n      <td>0.0</td>\n      <td>0.0</td>\n      <td>0.0</td>\n      <td>0.0</td>\n      <td>0.0</td>\n    </tr>\n    <tr>\n      <th>1</th>\n      <td>Afghanistan</td>\n      <td>Shooting</td>\n      <td>1.0</td>\n      <td>0.0</td>\n      <td>0.0</td>\n      <td>0.0</td>\n      <td>0.0</td>\n      <td>0.0</td>\n    </tr>\n    <tr>\n      <th>2</th>\n      <td>Afghanistan</td>\n      <td>Swimming</td>\n      <td>1.0</td>\n      <td>0.0</td>\n      <td>0.0</td>\n      <td>0.0</td>\n      <td>0.0</td>\n      <td>0.0</td>\n    </tr>\n    <tr>\n      <th>3</th>\n      <td>Afghanistan</td>\n      <td>Taekwondo</td>\n      <td>1.0</td>\n      <td>0.0</td>\n      <td>0.0</td>\n      <td>0.0</td>\n      <td>0.0</td>\n      <td>0.0</td>\n    </tr>\n    <tr>\n      <th>4</th>\n      <td>Albania</td>\n      <td>Artistic Gymnastics</td>\n      <td>1.0</td>\n      <td>0.0</td>\n      <td>0.0</td>\n      <td>0.0</td>\n      <td>0.0</td>\n      <td>0.0</td>\n    </tr>\n    <tr>\n      <th>...</th>\n      <td>...</td>\n      <td>...</td>\n      <td>...</td>\n      <td>...</td>\n      <td>...</td>\n      <td>...</td>\n      <td>...</td>\n      <td>...</td>\n    </tr>\n    <tr>\n      <th>2114</th>\n      <td>Dominican Republic</td>\n      <td>Basketball</td>\n      <td>0.0</td>\n      <td>4.0</td>\n      <td>0.0</td>\n      <td>0.0</td>\n      <td>0.0</td>\n      <td>0.0</td>\n    </tr>\n    <tr>\n      <th>2115</th>\n      <td>San Marino</td>\n      <td>Artistic Swimming</td>\n      <td>0.0</td>\n      <td>2.0</td>\n      <td>0.0</td>\n      <td>0.0</td>\n      <td>0.0</td>\n      <td>0.0</td>\n    </tr>\n    <tr>\n      <th>2116</th>\n      <td>Serbia</td>\n      <td>Artistic Swimming</td>\n      <td>0.0</td>\n      <td>1.0</td>\n      <td>0.0</td>\n      <td>0.0</td>\n      <td>0.0</td>\n      <td>0.0</td>\n    </tr>\n    <tr>\n      <th>2117</th>\n      <td>Slovakia</td>\n      <td>Artistic Swimming</td>\n      <td>0.0</td>\n      <td>1.0</td>\n      <td>0.0</td>\n      <td>0.0</td>\n      <td>0.0</td>\n      <td>0.0</td>\n    </tr>\n    <tr>\n      <th>2118</th>\n      <td>Venezuela</td>\n      <td>Basketball</td>\n      <td>0.0</td>\n      <td>6.0</td>\n      <td>0.0</td>\n      <td>0.0</td>\n      <td>0.0</td>\n      <td>0.0</td>\n    </tr>\n  </tbody>\n</table>\n<p>2119 rows × 8 columns</p>\n</div>"
     },
     "execution_count": 42,
     "metadata": {},
     "output_type": "execute_result"
    }
   ],
   "source": [
    "df_final"
   ]
  },
  {
   "cell_type": "code",
   "execution_count": 43,
   "metadata": {
    "ExecuteTime": {
     "end_time": "2024-02-16T10:33:44.684036500Z",
     "start_time": "2024-02-16T10:33:43.815185600Z"
    }
   },
   "outputs": [
    {
     "data": {
      "text/plain": "       pais             modalidade  numero_atletas  numero_treinadores  \\\n239  Brazil                Archery             2.0                 0.0   \n240  Brazil    Artistic Gymnastics             6.0                 0.0   \n241  Brazil              Athletics            53.0                 0.0   \n242  Brazil              Badminton             2.0                 0.0   \n243  Brazil       Beach Volleyball             7.0                 0.0   \n244  Brazil                 Boxing             7.0                 0.0   \n245  Brazil           Canoe Slalom             2.0                 0.0   \n246  Brazil           Canoe Sprint             3.0                 0.0   \n247  Brazil     Cycling BMX Racing             2.0                 0.0   \n248  Brazil  Cycling Mountain Bike             3.0                 0.0   \n249  Brazil                 Diving             4.0                 0.0   \n250  Brazil             Equestrian             9.0                 0.0   \n251  Brazil                Fencing             2.0                 0.0   \n252  Brazil               Football            41.0                 2.0   \n253  Brazil               Handball            28.0                 2.0   \n254  Brazil                   Judo            11.0                 0.0   \n255  Brazil      Modern Pentathlon             1.0                 0.0   \n256  Brazil    Rhythmic Gymnastics             5.0                 0.0   \n257  Brazil           Rugby Sevens            12.0                 1.0   \n258  Brazil                Sailing            13.0                 0.0   \n259  Brazil               Shooting             1.0                 0.0   \n260  Brazil          Skateboarding            12.0                 0.0   \n261  Brazil                Surfing             4.0                 0.0   \n262  Brazil               Swimming            17.0                 0.0   \n263  Brazil           Table Tennis             6.0                 0.0   \n264  Brazil              Taekwondo             2.0                 0.0   \n265  Brazil                 Tennis             5.0                 0.0   \n266  Brazil              Triathlon             3.0                 0.0   \n267  Brazil             Volleyball            23.0                 2.0   \n268  Brazil          Weightlifting             2.0                 0.0   \n269  Brazil              Wrestling             3.0                 0.0   \n\n     times_masculinos  times_femininos  times_mistos  times_outros  \n239               0.0              0.0           1.0           0.0  \n240               1.0              0.0           0.0           0.0  \n241               1.0              1.0           1.0           0.0  \n242               0.0              0.0           0.0           0.0  \n243               2.0              2.0           0.0           0.0  \n244               0.0              0.0           0.0           0.0  \n245               0.0              0.0           0.0           0.0  \n246               0.0              0.0           0.0           0.0  \n247               0.0              0.0           0.0           0.0  \n248               0.0              0.0           0.0           0.0  \n249               0.0              0.0           0.0           0.0  \n250               0.0              0.0           0.0           0.0  \n251               0.0              0.0           0.0           0.0  \n252               1.0              1.0           0.0           0.0  \n253               1.0              1.0           0.0           0.0  \n254               0.0              0.0           0.0           0.0  \n255               0.0              0.0           0.0           0.0  \n256               0.0              0.0           0.0           1.0  \n257               0.0              1.0           0.0           0.0  \n258               0.0              0.0           0.0           0.0  \n259               0.0              0.0           0.0           0.0  \n260               0.0              0.0           0.0           0.0  \n261               0.0              0.0           0.0           0.0  \n262               1.0              1.0           1.0           0.0  \n263               1.0              1.0           0.0           0.0  \n264               0.0              0.0           0.0           0.0  \n265               0.0              0.0           0.0           0.0  \n266               0.0              0.0           0.0           0.0  \n267               1.0              1.0           0.0           0.0  \n268               0.0              0.0           0.0           0.0  \n269               0.0              0.0           0.0           0.0  ",
      "text/html": "<div>\n<style scoped>\n    .dataframe tbody tr th:only-of-type {\n        vertical-align: middle;\n    }\n\n    .dataframe tbody tr th {\n        vertical-align: top;\n    }\n\n    .dataframe thead th {\n        text-align: right;\n    }\n</style>\n<table border=\"1\" class=\"dataframe\">\n  <thead>\n    <tr style=\"text-align: right;\">\n      <th></th>\n      <th>pais</th>\n      <th>modalidade</th>\n      <th>numero_atletas</th>\n      <th>numero_treinadores</th>\n      <th>times_masculinos</th>\n      <th>times_femininos</th>\n      <th>times_mistos</th>\n      <th>times_outros</th>\n    </tr>\n  </thead>\n  <tbody>\n    <tr>\n      <th>239</th>\n      <td>Brazil</td>\n      <td>Archery</td>\n      <td>2.0</td>\n      <td>0.0</td>\n      <td>0.0</td>\n      <td>0.0</td>\n      <td>1.0</td>\n      <td>0.0</td>\n    </tr>\n    <tr>\n      <th>240</th>\n      <td>Brazil</td>\n      <td>Artistic Gymnastics</td>\n      <td>6.0</td>\n      <td>0.0</td>\n      <td>1.0</td>\n      <td>0.0</td>\n      <td>0.0</td>\n      <td>0.0</td>\n    </tr>\n    <tr>\n      <th>241</th>\n      <td>Brazil</td>\n      <td>Athletics</td>\n      <td>53.0</td>\n      <td>0.0</td>\n      <td>1.0</td>\n      <td>1.0</td>\n      <td>1.0</td>\n      <td>0.0</td>\n    </tr>\n    <tr>\n      <th>242</th>\n      <td>Brazil</td>\n      <td>Badminton</td>\n      <td>2.0</td>\n      <td>0.0</td>\n      <td>0.0</td>\n      <td>0.0</td>\n      <td>0.0</td>\n      <td>0.0</td>\n    </tr>\n    <tr>\n      <th>243</th>\n      <td>Brazil</td>\n      <td>Beach Volleyball</td>\n      <td>7.0</td>\n      <td>0.0</td>\n      <td>2.0</td>\n      <td>2.0</td>\n      <td>0.0</td>\n      <td>0.0</td>\n    </tr>\n    <tr>\n      <th>244</th>\n      <td>Brazil</td>\n      <td>Boxing</td>\n      <td>7.0</td>\n      <td>0.0</td>\n      <td>0.0</td>\n      <td>0.0</td>\n      <td>0.0</td>\n      <td>0.0</td>\n    </tr>\n    <tr>\n      <th>245</th>\n      <td>Brazil</td>\n      <td>Canoe Slalom</td>\n      <td>2.0</td>\n      <td>0.0</td>\n      <td>0.0</td>\n      <td>0.0</td>\n      <td>0.0</td>\n      <td>0.0</td>\n    </tr>\n    <tr>\n      <th>246</th>\n      <td>Brazil</td>\n      <td>Canoe Sprint</td>\n      <td>3.0</td>\n      <td>0.0</td>\n      <td>0.0</td>\n      <td>0.0</td>\n      <td>0.0</td>\n      <td>0.0</td>\n    </tr>\n    <tr>\n      <th>247</th>\n      <td>Brazil</td>\n      <td>Cycling BMX Racing</td>\n      <td>2.0</td>\n      <td>0.0</td>\n      <td>0.0</td>\n      <td>0.0</td>\n      <td>0.0</td>\n      <td>0.0</td>\n    </tr>\n    <tr>\n      <th>248</th>\n      <td>Brazil</td>\n      <td>Cycling Mountain Bike</td>\n      <td>3.0</td>\n      <td>0.0</td>\n      <td>0.0</td>\n      <td>0.0</td>\n      <td>0.0</td>\n      <td>0.0</td>\n    </tr>\n    <tr>\n      <th>249</th>\n      <td>Brazil</td>\n      <td>Diving</td>\n      <td>4.0</td>\n      <td>0.0</td>\n      <td>0.0</td>\n      <td>0.0</td>\n      <td>0.0</td>\n      <td>0.0</td>\n    </tr>\n    <tr>\n      <th>250</th>\n      <td>Brazil</td>\n      <td>Equestrian</td>\n      <td>9.0</td>\n      <td>0.0</td>\n      <td>0.0</td>\n      <td>0.0</td>\n      <td>0.0</td>\n      <td>0.0</td>\n    </tr>\n    <tr>\n      <th>251</th>\n      <td>Brazil</td>\n      <td>Fencing</td>\n      <td>2.0</td>\n      <td>0.0</td>\n      <td>0.0</td>\n      <td>0.0</td>\n      <td>0.0</td>\n      <td>0.0</td>\n    </tr>\n    <tr>\n      <th>252</th>\n      <td>Brazil</td>\n      <td>Football</td>\n      <td>41.0</td>\n      <td>2.0</td>\n      <td>1.0</td>\n      <td>1.0</td>\n      <td>0.0</td>\n      <td>0.0</td>\n    </tr>\n    <tr>\n      <th>253</th>\n      <td>Brazil</td>\n      <td>Handball</td>\n      <td>28.0</td>\n      <td>2.0</td>\n      <td>1.0</td>\n      <td>1.0</td>\n      <td>0.0</td>\n      <td>0.0</td>\n    </tr>\n    <tr>\n      <th>254</th>\n      <td>Brazil</td>\n      <td>Judo</td>\n      <td>11.0</td>\n      <td>0.0</td>\n      <td>0.0</td>\n      <td>0.0</td>\n      <td>0.0</td>\n      <td>0.0</td>\n    </tr>\n    <tr>\n      <th>255</th>\n      <td>Brazil</td>\n      <td>Modern Pentathlon</td>\n      <td>1.0</td>\n      <td>0.0</td>\n      <td>0.0</td>\n      <td>0.0</td>\n      <td>0.0</td>\n      <td>0.0</td>\n    </tr>\n    <tr>\n      <th>256</th>\n      <td>Brazil</td>\n      <td>Rhythmic Gymnastics</td>\n      <td>5.0</td>\n      <td>0.0</td>\n      <td>0.0</td>\n      <td>0.0</td>\n      <td>0.0</td>\n      <td>1.0</td>\n    </tr>\n    <tr>\n      <th>257</th>\n      <td>Brazil</td>\n      <td>Rugby Sevens</td>\n      <td>12.0</td>\n      <td>1.0</td>\n      <td>0.0</td>\n      <td>1.0</td>\n      <td>0.0</td>\n      <td>0.0</td>\n    </tr>\n    <tr>\n      <th>258</th>\n      <td>Brazil</td>\n      <td>Sailing</td>\n      <td>13.0</td>\n      <td>0.0</td>\n      <td>0.0</td>\n      <td>0.0</td>\n      <td>0.0</td>\n      <td>0.0</td>\n    </tr>\n    <tr>\n      <th>259</th>\n      <td>Brazil</td>\n      <td>Shooting</td>\n      <td>1.0</td>\n      <td>0.0</td>\n      <td>0.0</td>\n      <td>0.0</td>\n      <td>0.0</td>\n      <td>0.0</td>\n    </tr>\n    <tr>\n      <th>260</th>\n      <td>Brazil</td>\n      <td>Skateboarding</td>\n      <td>12.0</td>\n      <td>0.0</td>\n      <td>0.0</td>\n      <td>0.0</td>\n      <td>0.0</td>\n      <td>0.0</td>\n    </tr>\n    <tr>\n      <th>261</th>\n      <td>Brazil</td>\n      <td>Surfing</td>\n      <td>4.0</td>\n      <td>0.0</td>\n      <td>0.0</td>\n      <td>0.0</td>\n      <td>0.0</td>\n      <td>0.0</td>\n    </tr>\n    <tr>\n      <th>262</th>\n      <td>Brazil</td>\n      <td>Swimming</td>\n      <td>17.0</td>\n      <td>0.0</td>\n      <td>1.0</td>\n      <td>1.0</td>\n      <td>1.0</td>\n      <td>0.0</td>\n    </tr>\n    <tr>\n      <th>263</th>\n      <td>Brazil</td>\n      <td>Table Tennis</td>\n      <td>6.0</td>\n      <td>0.0</td>\n      <td>1.0</td>\n      <td>1.0</td>\n      <td>0.0</td>\n      <td>0.0</td>\n    </tr>\n    <tr>\n      <th>264</th>\n      <td>Brazil</td>\n      <td>Taekwondo</td>\n      <td>2.0</td>\n      <td>0.0</td>\n      <td>0.0</td>\n      <td>0.0</td>\n      <td>0.0</td>\n      <td>0.0</td>\n    </tr>\n    <tr>\n      <th>265</th>\n      <td>Brazil</td>\n      <td>Tennis</td>\n      <td>5.0</td>\n      <td>0.0</td>\n      <td>0.0</td>\n      <td>0.0</td>\n      <td>0.0</td>\n      <td>0.0</td>\n    </tr>\n    <tr>\n      <th>266</th>\n      <td>Brazil</td>\n      <td>Triathlon</td>\n      <td>3.0</td>\n      <td>0.0</td>\n      <td>0.0</td>\n      <td>0.0</td>\n      <td>0.0</td>\n      <td>0.0</td>\n    </tr>\n    <tr>\n      <th>267</th>\n      <td>Brazil</td>\n      <td>Volleyball</td>\n      <td>23.0</td>\n      <td>2.0</td>\n      <td>1.0</td>\n      <td>1.0</td>\n      <td>0.0</td>\n      <td>0.0</td>\n    </tr>\n    <tr>\n      <th>268</th>\n      <td>Brazil</td>\n      <td>Weightlifting</td>\n      <td>2.0</td>\n      <td>0.0</td>\n      <td>0.0</td>\n      <td>0.0</td>\n      <td>0.0</td>\n      <td>0.0</td>\n    </tr>\n    <tr>\n      <th>269</th>\n      <td>Brazil</td>\n      <td>Wrestling</td>\n      <td>3.0</td>\n      <td>0.0</td>\n      <td>0.0</td>\n      <td>0.0</td>\n      <td>0.0</td>\n      <td>0.0</td>\n    </tr>\n  </tbody>\n</table>\n</div>"
     },
     "execution_count": 43,
     "metadata": {},
     "output_type": "execute_result"
    }
   ],
   "source": [
    "df_final[df_final.pais == 'Brazil']"
   ]
  },
  {
   "cell_type": "markdown",
   "metadata": {},
   "source": [
    "### Carregamento dos Dados"
   ]
  },
  {
   "cell_type": "code",
   "execution_count": 44,
   "metadata": {
    "ExecuteTime": {
     "end_time": "2024-02-16T10:33:44.783279400Z",
     "start_time": "2024-02-16T10:33:43.846127600Z"
    }
   },
   "outputs": [],
   "source": [
    "credentials = service_account.Credentials.from_service_account_file(filename='GBQ.json', \n",
    "                                                                    scopes=[\"https://www.googleapis.com/auth/cloud-platform\"])"
   ]
  },
  {
   "cell_type": "code",
   "execution_count": 47,
   "metadata": {
    "ExecuteTime": {
     "end_time": "2024-02-16T10:39:12.448123500Z",
     "start_time": "2024-02-16T10:39:02.687683200Z"
    }
   },
   "outputs": [
    {
     "name": "stderr",
     "output_type": "stream",
     "text": [
      "100%|██████████| 1/1 [00:00<?, ?it/s]\n"
     ]
    }
   ],
   "source": [
    "df_final.to_gbq(credentials=credentials, \n",
    "                destination_table='curso_etl.etl_excel', \n",
    "                if_exists='replace')"
   ]
  }
 ],
 "metadata": {
  "kernelspec": {
   "display_name": "Python 3",
   "language": "python",
   "name": "python3"
  },
  "language_info": {
   "codemirror_mode": {
    "name": "ipython",
    "version": 3
   },
   "file_extension": ".py",
   "mimetype": "text/x-python",
   "name": "python",
   "nbconvert_exporter": "python",
   "pygments_lexer": "ipython3",
   "version": "3.7.4"
  }
 },
 "nbformat": 4,
 "nbformat_minor": 2
}
