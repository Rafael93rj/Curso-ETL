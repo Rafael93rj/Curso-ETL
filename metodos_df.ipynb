{
 "cells": [
  {
   "cell_type": "markdown",
   "id": "795c843d",
   "metadata": {},
   "source": [
    "# Métodos I\n"
   ]
  },
  {
   "cell_type": "code",
   "execution_count": 5,
   "id": "5e6d9a5b",
   "metadata": {},
   "outputs": [],
   "source": [
    "import pandas as pd\n",
    "import numpy as np"
   ]
  },
  {
   "cell_type": "code",
   "execution_count": 6,
   "id": "34ee5d4f",
   "metadata": {
    "scrolled": true
   },
   "outputs": [
    {
     "data": {
      "text/plain": [
       "array([['1', '2', '3'],\n",
       "       ['Rio de Janeiro', 'São Paulo', 'Minas Gerais'],\n",
       "       ['RJ', 'SP', 'MG']], dtype='<U14')"
      ]
     },
     "execution_count": 6,
     "metadata": {},
     "output_type": "execute_result"
    }
   ],
   "source": [
    "array1 = np.array([[1, 2, 3],\n",
    "                   ['Rio de Janeiro','São Paulo','Minas Gerais'],\n",
    "                   ['RJ', 'SP', 'MG']])\n",
    "\n",
    "array1"
   ]
  },
  {
   "cell_type": "code",
   "execution_count": 7,
   "id": "927c5476",
   "metadata": {
    "scrolled": false
   },
   "outputs": [
    {
     "data": {
      "text/html": [
       "<div>\n",
       "<style scoped>\n",
       "    .dataframe tbody tr th:only-of-type {\n",
       "        vertical-align: middle;\n",
       "    }\n",
       "\n",
       "    .dataframe tbody tr th {\n",
       "        vertical-align: top;\n",
       "    }\n",
       "\n",
       "    .dataframe thead th {\n",
       "        text-align: right;\n",
       "    }\n",
       "</style>\n",
       "<table border=\"1\" class=\"dataframe\">\n",
       "  <thead>\n",
       "    <tr style=\"text-align: right;\">\n",
       "      <th></th>\n",
       "      <th>identificacao</th>\n",
       "      <th>cidade</th>\n",
       "      <th>estado</th>\n",
       "    </tr>\n",
       "  </thead>\n",
       "  <tbody>\n",
       "    <tr>\n",
       "      <th>linha1</th>\n",
       "      <td>1</td>\n",
       "      <td>Rio de Janeiro</td>\n",
       "      <td>RJ</td>\n",
       "    </tr>\n",
       "    <tr>\n",
       "      <th>linha2</th>\n",
       "      <td>2</td>\n",
       "      <td>São Paulo</td>\n",
       "      <td>SP</td>\n",
       "    </tr>\n",
       "    <tr>\n",
       "      <th>linha3</th>\n",
       "      <td>3</td>\n",
       "      <td>Minas Gerais</td>\n",
       "      <td>MG</td>\n",
       "    </tr>\n",
       "  </tbody>\n",
       "</table>\n",
       "</div>"
      ],
      "text/plain": [
       "       identificacao          cidade estado\n",
       "linha1             1  Rio de Janeiro     RJ\n",
       "linha2             2       São Paulo     SP\n",
       "linha3             3    Minas Gerais     MG"
      ]
     },
     "execution_count": 7,
     "metadata": {},
     "output_type": "execute_result"
    }
   ],
   "source": [
    "df3 = pd.DataFrame(data = array1.transpose(),\n",
    "                   index = ['linha1', 'linha2', 'linha3'],\n",
    "                   columns = ['identificacao', 'cidade', 'estado'])\n",
    "            \n",
    "df3"
   ]
  },
  {
   "cell_type": "code",
   "execution_count": 14,
   "id": "3a3564c1",
   "metadata": {},
   "outputs": [],
   "source": [
    "df3.identificacao = df3.identificacao.astype(int)"
   ]
  },
  {
   "cell_type": "code",
   "execution_count": 9,
   "id": "a5d6cd10",
   "metadata": {
    "scrolled": true
   },
   "outputs": [
    {
     "data": {
      "text/plain": [
       "identificacao    3\n",
       "cidade           3\n",
       "estado           3\n",
       "dtype: int64"
      ]
     },
     "execution_count": 9,
     "metadata": {},
     "output_type": "execute_result"
    }
   ],
   "source": [
    "df3.count()"
   ]
  },
  {
   "cell_type": "code",
   "execution_count": 10,
   "id": "b00e08b9",
   "metadata": {},
   "outputs": [
    {
     "data": {
      "text/html": [
       "<div>\n",
       "<style scoped>\n",
       "    .dataframe tbody tr th:only-of-type {\n",
       "        vertical-align: middle;\n",
       "    }\n",
       "\n",
       "    .dataframe tbody tr th {\n",
       "        vertical-align: top;\n",
       "    }\n",
       "\n",
       "    .dataframe thead th {\n",
       "        text-align: right;\n",
       "    }\n",
       "</style>\n",
       "<table border=\"1\" class=\"dataframe\">\n",
       "  <thead>\n",
       "    <tr style=\"text-align: right;\">\n",
       "      <th></th>\n",
       "      <th>identificacao</th>\n",
       "      <th>cidade</th>\n",
       "      <th>estado</th>\n",
       "    </tr>\n",
       "  </thead>\n",
       "  <tbody>\n",
       "    <tr>\n",
       "      <th>linha1</th>\n",
       "      <td>1</td>\n",
       "      <td>Rio de Janeiro</td>\n",
       "      <td>RJ</td>\n",
       "    </tr>\n",
       "    <tr>\n",
       "      <th>linha2</th>\n",
       "      <td>2</td>\n",
       "      <td>São Paulo</td>\n",
       "      <td>SP</td>\n",
       "    </tr>\n",
       "    <tr>\n",
       "      <th>linha3</th>\n",
       "      <td>3</td>\n",
       "      <td>Minas Gerais</td>\n",
       "      <td>MG</td>\n",
       "    </tr>\n",
       "    <tr>\n",
       "      <th>linha1</th>\n",
       "      <td>1</td>\n",
       "      <td>Rio de Janeiro</td>\n",
       "      <td>RJ</td>\n",
       "    </tr>\n",
       "    <tr>\n",
       "      <th>linha2</th>\n",
       "      <td>2</td>\n",
       "      <td>São Paulo</td>\n",
       "      <td>SP</td>\n",
       "    </tr>\n",
       "    <tr>\n",
       "      <th>linha3</th>\n",
       "      <td>3</td>\n",
       "      <td>Minas Gerais</td>\n",
       "      <td>MG</td>\n",
       "    </tr>\n",
       "  </tbody>\n",
       "</table>\n",
       "</div>"
      ],
      "text/plain": [
       "       identificacao          cidade estado\n",
       "linha1             1  Rio de Janeiro     RJ\n",
       "linha2             2       São Paulo     SP\n",
       "linha3             3    Minas Gerais     MG\n",
       "linha1             1  Rio de Janeiro     RJ\n",
       "linha2             2       São Paulo     SP\n",
       "linha3             3    Minas Gerais     MG"
      ]
     },
     "execution_count": 10,
     "metadata": {},
     "output_type": "execute_result"
    }
   ],
   "source": [
    "#duplicando tabela para conferir\n",
    "df3 = pd.concat([df3, df3])\n",
    "df3"
   ]
  },
  {
   "cell_type": "code",
   "execution_count": 15,
   "id": "7f763ccf",
   "metadata": {},
   "outputs": [
    {
     "data": {
      "text/plain": [
       "cidade\n",
       "Minas Gerais      3\n",
       "Rio de Janeiro    1\n",
       "São Paulo         2\n",
       "Name: identificacao, dtype: int32"
      ]
     },
     "execution_count": 15,
     "metadata": {},
     "output_type": "execute_result"
    }
   ],
   "source": [
    "#groupby\n",
    "\n",
    "df3.groupby(['cidade']).identificacao.sum()"
   ]
  },
  {
   "cell_type": "code",
   "execution_count": null,
   "id": "ae1ee4f8",
   "metadata": {},
   "outputs": [],
   "source": [
    "#excluindo linhas duplicadas\n",
    "\n",
    "df3.drop_duplicates(inplace=True)\n",
    "df3"
   ]
  },
  {
   "cell_type": "markdown",
   "id": "c1fd85f5",
   "metadata": {},
   "source": [
    "Módulos II"
   ]
  },
  {
   "cell_type": "code",
   "execution_count": 18,
   "id": "16f56c35",
   "metadata": {
    "scrolled": true
   },
   "outputs": [
    {
     "data": {
      "text/html": [
       "<div>\n",
       "<style scoped>\n",
       "    .dataframe tbody tr th:only-of-type {\n",
       "        vertical-align: middle;\n",
       "    }\n",
       "\n",
       "    .dataframe tbody tr th {\n",
       "        vertical-align: top;\n",
       "    }\n",
       "\n",
       "    .dataframe thead th {\n",
       "        text-align: right;\n",
       "    }\n",
       "</style>\n",
       "<table border=\"1\" class=\"dataframe\">\n",
       "  <thead>\n",
       "    <tr style=\"text-align: right;\">\n",
       "      <th></th>\n",
       "      <th>identificacao</th>\n",
       "      <th>cidade</th>\n",
       "      <th>estado</th>\n",
       "    </tr>\n",
       "  </thead>\n",
       "  <tbody>\n",
       "    <tr>\n",
       "      <th>linha1</th>\n",
       "      <td>True</td>\n",
       "      <td>False</td>\n",
       "      <td>False</td>\n",
       "    </tr>\n",
       "    <tr>\n",
       "      <th>linha2</th>\n",
       "      <td>False</td>\n",
       "      <td>False</td>\n",
       "      <td>False</td>\n",
       "    </tr>\n",
       "    <tr>\n",
       "      <th>linha3</th>\n",
       "      <td>False</td>\n",
       "      <td>False</td>\n",
       "      <td>False</td>\n",
       "    </tr>\n",
       "  </tbody>\n",
       "</table>\n",
       "</div>"
      ],
      "text/plain": [
       "        identificacao  cidade  estado\n",
       "linha1           True   False   False\n",
       "linha2          False   False   False\n",
       "linha3          False   False   False"
      ]
     },
     "execution_count": 18,
     "metadata": {},
     "output_type": "execute_result"
    }
   ],
   "source": [
    "#trazendo dados cujo os termos contenham \"1\"\n",
    "\n",
    "df3.isin([1])"
   ]
  },
  {
   "cell_type": "code",
   "execution_count": 22,
   "id": "49bff2e4",
   "metadata": {},
   "outputs": [
    {
     "data": {
      "text/plain": [
       "1"
      ]
     },
     "execution_count": 22,
     "metadata": {},
     "output_type": "execute_result"
    }
   ],
   "source": [
    "df3.identificacao.sum() #somando uma coluna\n",
    "df3.identificacao.mean() #média\n",
    "df3.identificacao.median() #mediana\n",
    "df3.identificacao.min() #pegando o valor mínimo"
   ]
  }
 ],
 "metadata": {
  "kernelspec": {
   "display_name": "Python 3 (ipykernel)",
   "language": "python",
   "name": "python3"
  },
  "language_info": {
   "codemirror_mode": {
    "name": "ipython",
    "version": 3
   },
   "file_extension": ".py",
   "mimetype": "text/x-python",
   "name": "python",
   "nbconvert_exporter": "python",
   "pygments_lexer": "ipython3",
   "version": "3.11.5"
  }
 },
 "nbformat": 4,
 "nbformat_minor": 5
}
